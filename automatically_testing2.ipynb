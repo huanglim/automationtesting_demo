{
 "cells": [
  {
   "cell_type": "markdown",
   "metadata": {},
   "source": [
    "\n",
    "# Autmatically testing with python\n",
    "---"
   ]
  },
  {
   "cell_type": "markdown",
   "metadata": {
    "collapsed": true
   },
   "source": [
    "# 2. 基于python的自动化测试\n",
    "---"
   ]
  },
  {
   "cell_type": "markdown",
   "metadata": {},
   "source": [
    "### 常见的手动测试内容\n",
    "\n",
    "- 鼠标流\n",
    "- 点到死\n",
    "- 手速党\n",
    "- 重复的测试case和文档\n",
    "\n",
    "### 未使用测试框架的测试方法\n",
    "\n",
    "- 通过print来判断是否与预期相符, 需要人工确认. \n",
    "- 各个测试函数不能有效的整合"
   ]
  },
  {
   "cell_type": "markdown",
   "metadata": {},
   "source": [
    "## 测试的适用场景举例"
   ]
  },
  {
   "cell_type": "markdown",
   "metadata": {},
   "source": [
    "最常见的Browser/Server 结构. 服务器端和客户端之间采用 Http/Https 的通讯协议\n",
    "\n",
    "    -API 接口测试完全可以进行自动化，而且不必强制和开发项目使用相同的语言，可以统一使用效率较高的语言\n",
    "    -接口天然就具有稳定性的需求，所以自动化测试项目不会存在反复折腾的现象\n",
    "    -接口测试人员成为了众多平台之间的 裁判员\n",
    "    -接口规范来自设计文档，可以实行 设计产生测试，测试驱动开发 的规范模式\n",
    "    \n",
    "除此之外, 有了抽象成数据的能力之后，那么很多看到的东西就可以进行合理的等价转换了：\n",
    "\n",
    "* web页面背景的是红色\n",
    "等价于：背景元素的background的颜色属性是 #FF0000\n",
    "\n",
    "* 按钮上显示的字为\"Submit\"\n",
    "等价于：按钮元素的value值为 Submit\n",
    "\n",
    "* 用户执行一次充值活动充了20块钱，他的账号上就多了20元\n",
    "等价于：以20为参数调用充值接口，再对比前后两次调用账号查询的接口，相差刚好是充值的参数值\n",
    "\n",
    "在数据层次编程进行比较就变得很容易了，因为这些都是计算机擅长处理的领域了，自动化也很自然地实现了。"
   ]
  },
  {
   "cell_type": "markdown",
   "metadata": {},
   "source": [
    "## 测试的实现"
   ]
  },
  {
   "cell_type": "markdown",
   "metadata": {},
   "source": [
    "基于如上特点，此系统的自动化测试简化表述，就是需要做如下事情：\n",
    "\n",
    "* 使用编程语言对网页或者是API接口进行Http请求\n",
    "* 对返回值解析\n",
    "* 按照设计文档进行判定\n",
    "* 以项目的方式组织测试脚本形成自动化测试项目\n",
    "\n",
    "如下几个框架或者工具帮助实现：\n",
    "\n",
    "* pyunit: 自动化框架提供了大量的assert断言方法来自动化进行数据逻辑判定\n",
    "\n",
    "* requests: 一个Http请求库，让Http的请求对人更友好\n",
    "\n",
    "* selenium: 一个模拟浏览器操作的框架, 可以实现在页面模拟人对元素的各类操作. 结合浏览器提供的客户端一起使用\n"
   ]
  },
  {
   "cell_type": "markdown",
   "metadata": {},
   "source": [
    "## Pyunit"
   ]
  },
  {
   "cell_type": "markdown",
   "metadata": {},
   "source": [
    "python的单元测试框架 PyUnit,可以认为是 Java 语言下的单元测试框架 JUnit 的 Python 语言实现版本，甚至其作者之一 Kent Beck 就是 JUnit 的作者。\n",
    "\n",
    "* unittest要达到如下目标：\n",
    "\n",
    "    - 支持自动化测试\n",
    "    - 让所有的测试脚本共享 开启(setup) 和 关闭(shutdown) 的代码\n",
    "    - 可以通过集合（collections）的方式来组织测试用例脚本\n",
    "    - 将所有的测试脚本从测试报告框架中独立出来 \n",
    "\n",
    "\n",
    "* 为了达到以上目标，unittest支持如下几个重要概念：\n",
    "\n",
    "    - 测试装置（test fixture）\n",
    "为一个或者多个测试用例做一些准备工作，例如：连接一个数据库，创建一个目录，或者开启一个进程.  \n",
    "具体为 setUp, tearDown, setUpClass, tearDownClass 等方法\n",
    "\n",
    "    - 测试用例（test case）\n",
    "测试用例是测试行为的最小单元，通过对一些输入输出值的对比来进行测试检查.  \n",
    "具体为继承了unittest.TestCase的类的一般方法\n",
    "\n",
    "    - 测试套件（test suite）\n",
    "将 测试用例 或者 测试用例集合 聚合组织起来的集合。可以批量执行一个测试套件内所有的测试用例  \n",
    "unittest.testSuite() 对象.\n",
    "\n",
    "    - 测试执行器（test runner）\n",
    "组织安排测试脚本执行活动的组件。测试执行器通过一些图形界面，文本界面或者返回一些特殊的值来展示测试脚本的测试结果。主要用于生成测试报告"
   ]
  },
  {
   "cell_type": "markdown",
   "metadata": {},
   "source": [
    "### Pyunit 框架实际例子"
   ]
  },
  {
   "cell_type": "code",
   "execution_count": 15,
   "metadata": {},
   "outputs": [
    {
     "name": "stderr",
     "output_type": "stream",
     "text": [
      "s.s"
     ]
    },
    {
     "name": "stdout",
     "output_type": "stream",
     "text": [
      "starting before all method, run just once\n",
      "The setUp method, run everytime for the each testcase\n",
      "10\n",
      "Test over\n",
      "ending after all method ended,run just once\n"
     ]
    },
    {
     "name": "stderr",
     "output_type": "stream",
     "text": [
      "\n",
      "----------------------------------------------------------------------\n",
      "Ran 3 tests in 0.020s\n",
      "\n",
      "OK (skipped=2)\n"
     ]
    }
   ],
   "source": [
    "# testcase example\n",
    "\n",
    "# 导入模块\n",
    "import unittest\n",
    "\n",
    "# 定义测试类，父类为unittest.TestCase。\n",
    "#可继承unittest.TestCase的方法，如setUp和tearDown方法，不过此方法可以在子类重写，覆盖父类方法。\n",
    "#可继承unittest.TestCase的各种断言方法。\n",
    "class Test(unittest.TestCase): \n",
    "    \n",
    "# setUpClass 用于所有测试用例执行之前的工作\n",
    "    @classmethod\n",
    "    def setUpClass(cls):\n",
    "        print(\"starting before all method, run just once\")\n",
    "\n",
    "# tearDownClass 用于所有测试用例执行之后的工作, 只执行一次\n",
    "    @classmethod\n",
    "    def tearDownClass(cls):\n",
    "        print(\"ending after all method ended,run just once\")\n",
    "    \n",
    "#定义setUp()方法用于测试用例执行前的初始化工作。\n",
    "#所有类中方法的入参为self，定义方法的变量也要“self.变量”\n",
    "    def setUp(self):\n",
    "        print('The setUp method, run everytime for the each testcase')\n",
    "        self.number=10\n",
    "\n",
    "#定义测试用例，以“test_”开头命名的方法\n",
    "#可使用unittest.TestCase类下面的各种断言方法用于对测试结果的判断\n",
    "#可定义多个测试用例\n",
    "#最重要的就是该部分\n",
    "    def test_case1(self):\n",
    "        print(self.number)\n",
    "        self.assertEqual(self.number,10,msg='Your input is not 10')\n",
    "        \n",
    "    @unittest.skip('跳过此测试')    \n",
    "    def test_case2(self):\n",
    "        print(self.number)\n",
    "        self.assertEqual(self.number,20,msg='Your input is not 20')\n",
    "\n",
    "    @unittest.skip('跳过此测试')\n",
    "    def test_case3(self):\n",
    "        print(self.number)\n",
    "        self.assertEqual(self.number,30,msg='Your input is not 30')\n",
    "\n",
    "# 定义tearDown()方法用于测试用例执行之后的善后工作。\n",
    "    def tearDown(self):\n",
    "        print('Test over')\n",
    "        \n",
    "# 如果直接运行该文件(__name__值为__main__),则执行以下语句，常用于测试脚本是否能够正常运行\n",
    "# if __name__=='__main__':\n",
    "# 执行测试用例方案一如下：\n",
    "#unittest.main()方法会搜索该模块下所有以test开头的测试用例方法，并自动执行它们。\n",
    "#执行顺序是命名顺序：先执行test_case1，再执行test_case2\n",
    "#     unittest.main()\n",
    "\n",
    "# 执行测试用例方案二如下：\n",
    "#  先构造测试集\n",
    "#  实例化测试套件\n",
    "    suite=unittest.TestSuite()\n",
    "#  将测试用例加载到测试套件中。\n",
    "#  执行顺序是安装加载顺序：先执行test_case2，再执行test_case1\n",
    "    suite.addTest(Test('test_case2'))\n",
    "    suite.addTest(Test('test_case1'))\n",
    "    suite.addTest(Test('test_case3'))\n",
    "# 执行测试用例\n",
    "#  实例化TextTestRunner类\n",
    "    runner=unittest.TextTestRunner()\n",
    "# 使用run()方法运行测试套件（即运行测试套件中的所有用例）\n",
    "    runner.run(suite)\n",
    "\n",
    "# 执行测试用例方案三如下：\n",
    "#  构造测试集（简化了方案二中先要创建测试套件然后再依次加载测试用例）\n",
    "#  执行顺序同方案一：执行顺序是命名顺序：先执行test_case1，再执行test_case2\n",
    "#     test_dir = './'\n",
    "#     discover = unittest.defaultTestLoader.discover(test_dir, pattern='test_*.py')\n",
    "# 执行测试用例\n",
    "#  实例化TextTestRunner类\n",
    "#     runner=unittest.TextTestRunner()\n",
    "#  使用run()方法运行测试套件（即运行测试套件中的所有用例）\n",
    "#     runner.run(discover)  "
   ]
  },
  {
   "cell_type": "markdown",
   "metadata": {},
   "source": [
    "## 使用 requests 对Bluepage API 接口测试"
   ]
  },
  {
   "cell_type": "code",
   "execution_count": 30,
   "metadata": {},
   "outputs": [
    {
     "name": "stderr",
     "output_type": "stream",
     "text": [
      ".\n",
      "----------------------------------------------------------------------\n",
      "Ran 1 test in 0.492s\n",
      "\n",
      "OK\n"
     ]
    },
    {
     "data": {
      "text/plain": [
       "<unittest.runner.TextTestResult run=1 errors=0 failures=0>"
      ]
     },
     "execution_count": 30,
     "metadata": {},
     "output_type": "execute_result"
    }
   ],
   "source": [
    "import requests\n",
    "class BluepageTest(unittest.TestCase):\n",
    "    \n",
    "    def testGetEmail(self):\n",
    "        url = \"http://bluepages.ibm.com/BpHttpApisv3/wsapi?byCnum=\" + '210143672'\n",
    "        res = requests.get(url)\n",
    "        \n",
    "        self.assertIn('huanglmw@cn.ibm.com', res.text)\n",
    "                \n",
    "suite = unittest.TestSuite()\n",
    "suite.addTest(BluepageTest('testGetEmail'))\n",
    "runner = unittest.TextTestRunner()\n",
    "runner.run(suite)"
   ]
  },
  {
   "cell_type": "markdown",
   "metadata": {},
   "source": [
    "## 结合selenium 做web测试"
   ]
  },
  {
   "cell_type": "code",
   "execution_count": 20,
   "metadata": {},
   "outputs": [
    {
     "name": "stderr",
     "output_type": "stream",
     "text": [
      ".\n",
      "----------------------------------------------------------------------\n",
      "Ran 1 test in 13.084s\n",
      "\n",
      "OK\n"
     ]
    },
    {
     "data": {
      "text/plain": [
       "<unittest.runner.TextTestResult run=1 errors=0 failures=0>"
      ]
     },
     "execution_count": 20,
     "metadata": {},
     "output_type": "execute_result"
    }
   ],
   "source": [
    "from selenium import webdriver\n",
    "import time\n",
    "\n",
    "class YoudaoTest(unittest.TestCase):\n",
    "    def setUp(self):\n",
    "        self.driver = webdriver.Chrome()\n",
    "        self.driver.implicitly_wait(30) \n",
    "        self.base_url = \"http://www.youdao.com\"\n",
    "    \n",
    "    def test_youdao(self):\n",
    "        driver = self.driver\n",
    "        driver.get(self.base_url + \"/\")\n",
    "        driver.find_element_by_id(\"translateContent\").clear()\n",
    "        driver.find_element_by_id(\"translateContent\").send_keys(u\"你好\")\n",
    "        driver.find_element_by_id(\"translateContent\").submit()\n",
    "        time.sleep(3)\n",
    "        page_source=driver.page_source\n",
    "        self.assertIn( \"hello\",page_source) \n",
    "\n",
    "    def tearDown(self):\n",
    "        self.driver.quit()\n",
    "\n",
    "suite = unittest.TestSuite()\n",
    "suite.addTest(YoudaoTest('test_youdao'))\n",
    "runner = unittest.TextTestRunner()\n",
    "runner.run(suite)\n"
   ]
  },
  {
   "cell_type": "markdown",
   "metadata": {},
   "source": [
    "## Pytest 生成测试报告并自动发送邮件"
   ]
  },
  {
   "cell_type": "markdown",
   "metadata": {},
   "source": [
    "## 更多的topic"
   ]
  },
  {
   "cell_type": "code",
   "execution_count": null,
   "metadata": {
    "collapsed": true
   },
   "outputs": [],
   "source": []
  }
 ],
 "metadata": {
  "kernelspec": {
   "display_name": "Python 3",
   "language": "python",
   "name": "python3"
  },
  "language_info": {
   "codemirror_mode": {
    "name": "ipython",
    "version": 3
   },
   "file_extension": ".py",
   "mimetype": "text/x-python",
   "name": "python",
   "nbconvert_exporter": "python",
   "pygments_lexer": "ipython3",
   "version": "3.6.3"
  }
 },
 "nbformat": 4,
 "nbformat_minor": 2
}
