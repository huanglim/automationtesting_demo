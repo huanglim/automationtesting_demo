{
 "cells": [
  {
   "cell_type": "markdown",
   "metadata": {},
   "source": [
    "\n",
    "# Autmatically testing with python\n",
    "---"
   ]
  },
  {
   "cell_type": "markdown",
   "metadata": {
    "collapsed": true
   },
   "source": [
    "# 2. 基于python的自动化测试\n",
    "---"
   ]
  },
  {
   "cell_type": "markdown",
   "metadata": {},
   "source": [
    "## 前置技能\n",
    "* 了解测试的基本内容 或快速浏览第一部分\n",
    "* 基本的python编程能力\n",
    "* Python的开发环境 python version >=3.4\n",
    "* (option)部分第三方库, 例如 requests\n",
    "* (option)安装 selenium库并且安装相应的webdriver, driver的保存目录应在系统的搜索path内. 建议放在python或者是测试目录的scripts目录下  \n",
    "    -例如你有chrome浏览器, 同时需要安装 [chromedriver](https://sites.google.com/a/chromium.org/chromedriver/downloads)  \n",
    "    or firefox浏览器, 安装[geckodrive](https://github.com/mozilla/geckodriver/releases)"
   ]
  },
  {
   "cell_type": "markdown",
   "metadata": {},
   "source": [
    "### 常见的手动测试内容\n",
    "\n",
    "- 鼠标流\n",
    "- 点到死\n",
    "- 手速党\n",
    "- 重复的测试case和文档\n",
    "\n",
    "### 未使用测试框架的测试方法\n",
    "\n",
    "- 通过print来判断是否与预期相符, 需要人工确认. \n",
    "- 各个测试函数不能有效的整合\n",
    "\n",
    "### 自动化测试解决的问题  \n",
    "* 重复使用的测试用例\n",
    "* 手工测试很难实现（或是手工成本很高)\n",
    "* 持续集成(devops)的需要\n",
    "\n",
    "### 并非所有项目都适合自动化测试\n",
    "* 项目周期短，需求变更频繁\n",
    "* 系统不稳定\n",
    "* 涉及与物理设备或者GUI类工具交互, 同时缺乏有效的仿真工具"
   ]
  },
  {
   "cell_type": "markdown",
   "metadata": {},
   "source": [
    "## 测试的适用场景举例"
   ]
  },
  {
   "cell_type": "markdown",
   "metadata": {},
   "source": [
    "最常见的Browser/Server 结构. 服务器端和客户端之间采用 Http/Https 的通讯协议\n",
    "\n",
    "    -API 接口测试完全可以进行自动化，而且不必强制和开发项目使用相同的语言，可以统一使用效率较高的语言\n",
    "    -接口天然就具有稳定性的需求，所以自动化测试项目不会存在反复折腾的现象\n",
    "    -接口测试人员成为了众多平台之间的 裁判员\n",
    "    -接口规范来自设计文档，可以实行 设计产生测试，测试驱动开发 的规范模式\n",
    "    \n",
    "除此之外, 有了抽象成数据的能力之后，那么很多看到的东西就可以进行合理的等价转换了：\n",
    "\n",
    "* web页面背景的是红色\n",
    "等价于：背景元素的background的颜色属性是 #FF0000\n",
    "\n",
    "* 按钮上显示的字为\"Submit\"\n",
    "等价于：按钮元素的value值为 Submit\n",
    "\n",
    "* 用户执行一次充值活动充了20块钱，他的账号上就多了20元\n",
    "等价于：以20为参数调用充值接口，再对比前后两次调用账号查询的接口，相差刚好是充值的参数值\n",
    "\n",
    "在数据层次编程进行比较就变得很容易了，因为这些都是计算机擅长处理的领域了，自动化也很自然地实现了。\n",
    "\n",
    "基于如上特点，此系统的自动化测试简化表述，就是需要做如下事情：\n",
    "\n",
    "* 使用编程语言对网页或者是API接口进行Http请求\n",
    "* 对返回值解析\n",
    "* 按照设计文档进行判定\n",
    "* 以项目的方式组织测试脚本形成自动化测试项目"
   ]
  },
  {
   "cell_type": "markdown",
   "metadata": {},
   "source": [
    "## python自动化测试常用框架和工具"
   ]
  },
  {
   "cell_type": "markdown",
   "metadata": {},
   "source": [
    "\n",
    "\n",
    "常用框架: \n",
    "\n",
    "* unittest: python自带的测试框架, 提供了基本的能力, 除了稍显繁琐, 基础的功能都齐备. \n",
    "* pytest: 兼容pytest, 更易用并且有丰富的插件\n",
    "* Nose, doctest etc...\n",
    "\n",
    "常用工具或库:\n",
    "\n",
    "* Web测试工具: selenium, requests, QTP、AutoRunner、Robot Framework\n",
    "* 移动测试工具: andriod adb 安卓工具\n",
    "* 桌面测试工具: QTP、 AutoRunner\n"
   ]
  },
  {
   "cell_type": "markdown",
   "metadata": {},
   "source": [
    "## unittest"
   ]
  },
  {
   "cell_type": "markdown",
   "metadata": {},
   "source": [
    "python的单元测试框架 PyUnit,可以认为是 Java 语言下的单元测试框架 JUnit 的 Python 语言实现版本，甚至其作者之一 Kent Beck 就是 JUnit 的作者。\n",
    "\n",
    "* unittest要达到如下目标：\n",
    "\n",
    "    - 支持自动化测试\n",
    "    - 让所有的测试脚本共享 开启(setup) 和 关闭(shutdown) 的代码\n",
    "    - 可以通过集合（collections）的方式来组织测试用例脚本\n",
    "    - 将所有的测试脚本从测试报告框架中独立出来 \n",
    "\n",
    "\n",
    "* 为了达到以上目标，unittest支持如下几个重要概念：\n",
    "\n",
    "    - 测试装置（test fixture）\n",
    "为一个或者多个测试用例做一些准备工作，例如：连接一个数据库，创建一个目录，或者开启一个进程.  \n",
    "具体为 setUp, tearDown, setUpClass, tearDownClass 等方法\n",
    "\n",
    "    - 测试用例（test case）\n",
    "测试用例是测试行为的最小单元，通过对一些输入输出值的对比来进行测试检查.  \n",
    "具体为继承了unittest.TestCase的类的一般方法\n",
    "\n",
    "    - 测试套件（test suite）\n",
    "将 测试用例 或者 测试用例集合 聚合组织起来的集合。可以批量执行一个测试套件内所有的测试用例  \n",
    "unittest.testSuite() 对象.\n",
    "\n",
    "    - 测试执行器（test runner）\n",
    "组织安排测试脚本执行活动的组件。测试执行器通过一些图形界面，文本界面或者返回一些特殊的值来展示测试脚本的测试结果。主要用于生成测试报告"
   ]
  },
  {
   "cell_type": "markdown",
   "metadata": {},
   "source": [
    "## Unittest 主要模块及说明\n",
    "\n",
    "unittest.TestCase：TestCase类，所有测试用例类继承的基本类。\n",
    "\n",
    "unittest.main():使用她可以方便的将一个单元测试模块变为可直接运行的测试脚本，main()方法使用TestLoader类来搜索所有包含在该模块中以“test”命名开头的测试方法，并自动执行他们。执行方法的默认顺序是：根据ASCII码的顺序加载测试用例，数字与字母的顺序为：0-9，A-Z，a-z。所以以A开头的测试用例方法会优先执行，以a开头会后执行。\n",
    "\n",
    "unittest.TestSuite()：unittest框架的TestSuite()类是用来创建测试套件的。\n",
    "\n",
    "unittest.TextTextRunner():unittest框架的TextTextRunner()类，通过该类下面的run()方法来运行suite所组装的测试用例，入参为suite测试套件。\n",
    "\n",
    "unittest.defaultTestLoader(): defaultTestLoader()类，通过该类下面的discover()方法可自动更具测试目录start_dir匹配查找测试用例文件（test*.py），并将查找到的测试用例组装到测试套件，因此可以直接通过run()方法执行discover。用法如下：\n",
    "\n",
    "discover=unittest.defaultTestLoader.discover(test_dir, pattern='test_*.py')\n",
    "unittest.skip():装饰器，当运行用例时，有些用例可能不想执行等，可用装饰器暂时屏蔽该条测试用例。一种常见的用法就是比如说想调试某一个测试用例，想先屏蔽其他用例就可以用装饰器屏蔽。\n",
    "\n",
    "@unittest.skip(reason): skip(reason)装饰器：无条件跳过装饰的测试，并说明跳过测试的原因。\n",
    "\n",
    "@unittest.skipIf(reason): skipIf(condition,reason)装饰器：条件为真时，跳过装饰的测试，并说明跳过测试的原因。\n",
    "\n",
    "@unittest.skipUnless(reason): skipUnless(condition,reason)装饰器：条件为假时，跳过装饰的测试，并说明跳过测试的原因。\n",
    "\n",
    "@unittest.expectedFailure(): expectedFailure()测试标记为失败。\n",
    "\n",
    "### unittest.TestCase 的类方法:\n",
    "\n",
    "setUpClass() : 函数用于测试执行前的准备工作, 一个类实例只会执行一次\n",
    "tearDownClass(): 函数用于测试执行后的整理工作, 一个类实例只会执行一次\n",
    "\n",
    "### unittest.TestCase 的属性及实例方法:\n",
    "\n",
    "setUp():setUp()方法用于测试用例执行前的初始化工作。如测试用例中需要访问数据库，可以在setUp中建立数据库连接并进行初始化。如测试用例需要登录web，可以先实例化浏览器。\n",
    "\n",
    "tearDown():tearDown()方法用于测试用例执行之后的善后工作。如关闭数据库连接。关闭浏览器。\n",
    "\n",
    "assert*():一些断言方法：在执行测试用例的过程中，最终用例是否执行通过，是通过判断测试得到的实际结果和预期结果是否相等决定的。\n",
    "\n",
    "assertEqual(a,b，[msg='测试失败时打印的信息']):断言a和b是否相等，相等则测试用例通过。\n",
    "\n",
    "assertNotEqual(a,b，[msg='测试失败时打印的信息']):断言a和b是否相等，不相等则测试用例通过。\n",
    "\n",
    "assertTrue(x，[msg='测试失败时打印的信息'])：断言x是否True，是True则测试用例通过。\n",
    "\n",
    "assertFalse(x，[msg='测试失败时打印的信息'])：断言x是否False，是False则测试用例通过。\n",
    "\n",
    "assertIs(a,b，[msg='测试失败时打印的信息']):断言a是否是b，是则测试用例通过。\n",
    "\n",
    "assertNotIs(a,b，[msg='测试失败时打印的信息']):断言a是否是b，不是则测试用例通过。\n",
    "\n",
    "assertIsNone(x，[msg='测试失败时打印的信息'])：断言x是否None，是None则测试用例通过。\n",
    "\n",
    "assertIsNotNone(x，[msg='测试失败时打印的信息'])：断言x是否None，不是None则测试用例通过。\n",
    "\n",
    "assertIn(a,b，[msg='测试失败时打印的信息'])：断言a是否在b中，在b中则测试用例通过。\n",
    "\n",
    "assertNotIn(a,b，[msg='测试失败时打印的信息'])：断言a是否在b中，不在b中则测试用例通过。\n",
    "\n",
    "assertIsInstance(a,b，[msg='测试失败时打印的信息'])：断言a是是b的一个实例，是则测试用例通过。\n",
    "\n",
    "assertNotIsInstance(a,b，[msg='测试失败时打印的信息'])：断言a是是b的一个实例，不是则测试用例通过。"
   ]
  },
  {
   "cell_type": "markdown",
   "metadata": {},
   "source": [
    "### unittest 框架实际例子"
   ]
  },
  {
   "cell_type": "code",
   "execution_count": 44,
   "metadata": {},
   "outputs": [],
   "source": [
    "# testcase example\n",
    "\n",
    "# 导入模块\n",
    "import unittest\n",
    "\n",
    "#定义测试类，父类为unittest.TestCase。\n",
    "#可继承unittest.TestCase的方法，如setUp和tearDown方法，不过此方法可以在子类重写，覆盖父类方法。\n",
    "#可继承unittest.TestCase的各种断言方法。\n",
    "class Test(unittest.TestCase): \n",
    "    \n",
    "# setUpClass 用于所有测试用例执行之前的工作\n",
    "    @classmethod\n",
    "    def setUpClass(cls):\n",
    "        print(\"starting before all method, run just once\")\n",
    "\n",
    "# tearDownClass 用于所有测试用例执行之后的工作, 只执行一次\n",
    "    @classmethod\n",
    "    def tearDownClass(cls):\n",
    "        print(\"ending after all method ended,run just once\")\n",
    "    \n",
    "#定义setUp()方法用于测试用例执行前的初始化工作。\n",
    "#所有类中方法的入参为self，定义方法的变量也要“self.变量”\n",
    "    def setUp(self):\n",
    "        print('The setUp method, run everytime for the each testcase')\n",
    "        self.number=10\n",
    "        self.number2 =20\n",
    "\n",
    "#定义测试用例，以“test_”开头命名的方法\n",
    "#可使用unittest.TestCase类下面的各种断言方法用于对测试结果的判断\n",
    "#可定义多个测试用例\n",
    "#最重要的就是该部分\n",
    "    def test_case1(self):\n",
    "        print(self.number)\n",
    "        self.assertEqual(self.number,10,msg='Your input is not 10')\n",
    "        \n",
    "#     @unittest.skip('跳过此测试')    \n",
    "    def test_case2(self):\n",
    "        print(self.number)\n",
    "        self.assertEqual(self.number2,20,msg='Your input is not 20')\n",
    "\n",
    "    @unittest.skip('跳过此测试')\n",
    "    def test_case3(self):\n",
    "        print(self.number)\n",
    "        self.assertEqual(self.number,30,msg='Your input is not 30')\n",
    "\n",
    "# 定义tearDown()方法用于测试用例执行之后的善后工作。\n",
    "    def tearDown(self):\n",
    "        print('Test over')"
   ]
  },
  {
   "cell_type": "markdown",
   "metadata": {},
   "source": [
    "## 测试用例的执行"
   ]
  },
  {
   "cell_type": "code",
   "execution_count": 45,
   "metadata": {},
   "outputs": [
    {
     "name": "stderr",
     "output_type": "stream",
     "text": [
      "..F"
     ]
    },
    {
     "name": "stdout",
     "output_type": "stream",
     "text": [
      "starting before all method, run just once\n",
      "The setUp method, run everytime for the each testcase\n",
      "10\n",
      "Test over\n",
      "The setUp method, run everytime for the each testcase\n",
      "10\n",
      "Test over\n",
      "The setUp method, run everytime for the each testcase\n",
      "10\n",
      "Test over\n",
      "ending after all method ended,run just once\n"
     ]
    },
    {
     "name": "stderr",
     "output_type": "stream",
     "text": [
      "\n",
      "======================================================================\n",
      "FAIL: test_case3 (__main__.Test)\n",
      "----------------------------------------------------------------------\n",
      "Traceback (most recent call last):\n",
      "  File \"<ipython-input-44-2d881d016349>\", line 44, in test_case3\n",
      "    self.assertEqual(self.number,30,msg='Your input is not 30')\n",
      "AssertionError: 10 != 30 : Your input is not 30\n",
      "\n",
      "----------------------------------------------------------------------\n",
      "Ran 3 tests in 0.032s\n",
      "\n",
      "FAILED (failures=1)\n"
     ]
    },
    {
     "data": {
      "text/plain": [
       "<unittest.runner.TextTestResult run=3 errors=0 failures=1>"
      ]
     },
     "execution_count": 45,
     "metadata": {},
     "output_type": "execute_result"
    }
   ],
   "source": [
    "# 如果直接运行该文件(__name__值为__main__),则执行以下语句，常用于测试脚本是否能够正常运行\n",
    "# if __name__=='__main__':\n",
    "# 执行测试用例方案一如下：\n",
    "#unittest.main()方法会搜索该模块下所有以test开头的测试用例方法，并自动执行它们。\n",
    "#执行顺序是命名顺序：先执行test_case1，再执行test_case2\n",
    "#     unittest.main()\n",
    "\n",
    "# 执行测试用例方案二如下：\n",
    "#  先构造测试集\n",
    "#  实例化测试套件\n",
    "suite=unittest.TestSuite()\n",
    "#  将测试用例加载到测试套件中。\n",
    "#  执行顺序是安装加载顺序：先执行test_case2，再执行test_case1\n",
    "suite.addTest(Test('test_case2'))\n",
    "suite.addTest(Test('test_case1'))\n",
    "suite.addTest(Test('test_case3'))\n",
    "# 执行测试用例\n",
    "# 实例化TextTestRunner类\n",
    "runner=unittest.TextTestRunner()\n",
    "# 使用run()方法运行测试套件（即运行测试套件中的所有用例）\n",
    "runner.run(suite)\n",
    "\n",
    "# 执行测试用例方案三如下：\n",
    "#  构造测试集（简化了方案二中先要创建测试套件然后再依次加载测试用例）\n",
    "#  执行顺序同方案一：执行顺序是命名顺序：先执行test_case1，再执行test_case2\n",
    "#     test_dir = './'\n",
    "#     discover = unittest.defaultTestLoader.discover(test_dir, pattern='test_*.py')\n",
    "# 执行测试用例\n",
    "#  实例化TextTestRunner类\n",
    "#     runner=unittest.TextTestRunner()\n",
    "#  使用run()方法运行测试套件（即运行测试套件中的所有用例）\n",
    "#     runner.run(discover)  "
   ]
  },
  {
   "cell_type": "markdown",
   "metadata": {},
   "source": [
    "## 使用 requests 对Bluepage API 接口测试"
   ]
  },
  {
   "cell_type": "code",
   "execution_count": 47,
   "metadata": {},
   "outputs": [
    {
     "name": "stderr",
     "output_type": "stream",
     "text": [
      "F\n",
      "======================================================================\n",
      "FAIL: testGetEmail (__main__.BluepageTest)\n",
      "----------------------------------------------------------------------\n",
      "Traceback (most recent call last):\n",
      "  File \"<ipython-input-47-c00530acca92>\", line 8, in testGetEmail\n",
      "    self.assertIn('huanglmw@cn.ibm.com', res.text)\n",
      "AssertionError: 'huanglmw@cn.ibm.com' not found in '# rc=0, count=0, message=Success\\n'\n",
      "\n",
      "----------------------------------------------------------------------\n",
      "Ran 1 test in 0.543s\n",
      "\n",
      "FAILED (failures=1)\n"
     ]
    },
    {
     "data": {
      "text/plain": [
       "<unittest.runner.TextTestResult run=1 errors=0 failures=1>"
      ]
     },
     "execution_count": 47,
     "metadata": {},
     "output_type": "execute_result"
    }
   ],
   "source": [
    "import requests\n",
    "class BluepageTest(unittest.TestCase):\n",
    "    \n",
    "    def testGetEmail(self):\n",
    "        url = \"http://bluepages.ibm.com/BpHttpApisv3/wsapi?byCnum=\" + '210143672'\n",
    "        res = requests.get(url)\n",
    "        \n",
    "        self.assertIn('huanglmw@cn.ibm.com', res.text)\n",
    "\n",
    "suite = unittest.TestSuite()\n",
    "suite.addTest(BluepageTest('testGetEmail'))\n",
    "runner = unittest.TextTestRunner()\n",
    "runner.run(suite)"
   ]
  },
  {
   "cell_type": "markdown",
   "metadata": {},
   "source": [
    "## 结合selenium 做web测试"
   ]
  },
  {
   "cell_type": "code",
   "execution_count": 51,
   "metadata": {},
   "outputs": [
    {
     "name": "stderr",
     "output_type": "stream",
     "text": [
      "E\n",
      "======================================================================\n",
      "ERROR: test_youdao (__main__.YoudaoTest)\n",
      "----------------------------------------------------------------------\n",
      "Traceback (most recent call last):\n",
      "  File \"<ipython-input-51-818be46e1eb9>\", line 17, in test_youdao\n",
      "    driver.find_element_by_id(\"translateContent\").clear()\n",
      "  File \"C:\\Users\\LIMIANHUANG\\Anaconda3\\lib\\site-packages\\selenium\\webdriver\\remote\\webdriver.py\", line 341, in find_element_by_id\n",
      "    return self.find_element(by=By.ID, value=id_)\n",
      "  File \"C:\\Users\\LIMIANHUANG\\Anaconda3\\lib\\site-packages\\selenium\\webdriver\\remote\\webdriver.py\", line 855, in find_element\n",
      "    'value': value})['value']\n",
      "  File \"C:\\Users\\LIMIANHUANG\\Anaconda3\\lib\\site-packages\\selenium\\webdriver\\remote\\webdriver.py\", line 308, in execute\n",
      "    self.error_handler.check_response(response)\n",
      "  File \"C:\\Users\\LIMIANHUANG\\Anaconda3\\lib\\site-packages\\selenium\\webdriver\\remote\\errorhandler.py\", line 194, in check_response\n",
      "    raise exception_class(message, screen, stacktrace)\n",
      "selenium.common.exceptions.NoSuchWindowException: Message: no such window: target window already closed\n",
      "from unknown error: web view not found\n",
      "  (Session info: chrome=72.0.3626.119)\n",
      "  (Driver info: chromedriver=2.41.578737 (49da6702b16031c40d63e5618de03a32ff6c197e),platform=Windows NT 10.0.17763 x86_64)\n",
      "\n",
      "\n",
      "----------------------------------------------------------------------\n",
      "Ran 1 test in 8.352s\n",
      "\n",
      "FAILED (errors=1)\n"
     ]
    },
    {
     "data": {
      "text/plain": [
       "<unittest.runner.TextTestResult run=1 errors=1 failures=0>"
      ]
     },
     "execution_count": 51,
     "metadata": {},
     "output_type": "execute_result"
    }
   ],
   "source": [
    "from selenium import webdriver\n",
    "import time\n",
    "\n",
    "class YoudaoTest(unittest.TestCase):\n",
    "    def setUp(self):\n",
    "#         可以通过设定headless参数, 让浏览器后台运行\n",
    "        self.options = webdriver.ChromeOptions()\n",
    "#         self.options.add_argument('headless')\n",
    "        \n",
    "        self.driver = webdriver.Chrome(chrome_options=self.options)\n",
    "        self.driver.implicitly_wait(30) \n",
    "        self.base_url = \"http://www.youdao.com\"\n",
    "    \n",
    "    def test_youdao(self):\n",
    "        driver = self.driver\n",
    "        driver.get(self.base_url + \"/\")\n",
    "        driver.find_element_by_id(\"translateContent\").clear()\n",
    "        driver.find_element_by_id(\"translateContent\").send_keys(u\"你好\")\n",
    "        driver.find_element_by_id(\"translateContent\").submit()\n",
    "        time.sleep(3)\n",
    "        page_source=driver.page_source\n",
    "        self.assertIn( \"hello\",page_source) \n",
    "\n",
    "    def tearDown(self):\n",
    "        self.driver.quit()\n",
    "\n",
    "suite = unittest.TestSuite()\n",
    "suite.addTest(YoudaoTest('test_youdao'))\n",
    "runner = unittest.TextTestRunner()\n",
    "runner.run(suite)\n"
   ]
  },
  {
   "cell_type": "markdown",
   "metadata": {},
   "source": [
    "## 组织测试\n",
    "* 测试目录结构\n",
    "    * 为每个模块创建对应的测试。如果程序比较简单，那么可以仅创建一个脚本来存储测试代码。测试脚本的命名规则为test_*，比如test_sayhello.py。\n",
    "    * 在更大的程序中，随着程序变大，测试也变多了。为了更好地组织测试，我们创建一个tests包来分模块组织测试代码，测试被按照类别分为多个模块\n",
    "    * 也可以根据程序的主要功能区分来进行组织，比如数据库模型（test_models.py）、用户认证（test_auth.py）、命令（test_commands.py）等。  \n",
    "\n",
    "* 复用测试固件\n",
    "    * 当使用包组织组织测试时，不同的测试模块常常需要类似的测试固件。在unittest中，我们可以创建一个基本测试用例，在其他模块中直接导入并继承这个测试用例, 实现复用相同的setUp（）和tearDow（）方法, 还可以包含一些通用的辅助函数"
   ]
  },
  {
   "cell_type": "code",
   "execution_count": 53,
   "metadata": {},
   "outputs": [
    {
     "name": "stderr",
     "output_type": "stream",
     "text": [
      ".\n",
      "----------------------------------------------------------------------\n",
      "Ran 1 test in 12.667s\n",
      "\n",
      "OK\n"
     ]
    },
    {
     "data": {
      "text/plain": [
       "<unittest.runner.TextTestResult run=1 errors=0 failures=0>"
      ]
     },
     "execution_count": 53,
     "metadata": {},
     "output_type": "execute_result"
    }
   ],
   "source": [
    "class UserInterfaceTestCase(unittest.TestCase):\n",
    "    \n",
    "    def setUp(self):\n",
    "        \n",
    "        self.base_url = \"https://www.baidu.com\"\n",
    "        \n",
    "        self.options = webdriver.ChromeOptions()\n",
    "        self.options.add_argument('headless')\n",
    "        self.client = webdriver.Chrome(chrome_options=self.options)\n",
    "        self.client.implicitly_wait(30) \n",
    "\n",
    "        if not self.client:\n",
    "            self.skipTest('Web browser not available.')\n",
    "\n",
    "    def tearDown(self):\n",
    "        if self.client:\n",
    "            self.client.quit()\n",
    "            \n",
    "    def login(self):\n",
    "        pass\n",
    "            \n",
    "class BaiduTest(UserInterfaceTestCase):\n",
    "    \n",
    "    def test_search(self):\n",
    "        \n",
    "        self.client.get(self.base_url)\n",
    "        search = self.client.find_element_by_xpath(\"//input[@class='s_ipt']\")\n",
    "        search.send_keys('18摸公司')\n",
    "        time.sleep(3)\n",
    "        btn = self.client.find_element_by_xpath(\"//input[@value='百度一下']\")\n",
    "        btn.click()\n",
    "        time.sleep(3)\n",
    "        self.assertIn('IBM', self.client.page_source)\n",
    "        \n",
    "suite = unittest.TestSuite()\n",
    "suite.addTest(BaiduTest('test_search'))\n",
    "runner = unittest.TextTestRunner()\n",
    "runner.run(suite)"
   ]
  },
  {
   "cell_type": "markdown",
   "metadata": {},
   "source": [
    "## 更多的topic\n",
    "* 代码覆盖率\n",
    "    - 测试覆盖率是指测试覆盖的代码占全部代码行数的百分比。通常情况下，覆盖率应该越高越好，100%的测试覆盖率是理想目标，但有些时候并不是那么容易实现。对于大多数项目来说，应该尽量将测试覆盖率保持在90%左右。\n",
    "    Coverage.py是一个使用Python编写的检查代码覆盖率的工具，我们可以使用它来检查测试覆盖率\n",
    "* 测试报告"
   ]
  },
  {
   "cell_type": "code",
   "execution_count": null,
   "metadata": {
    "collapsed": true
   },
   "outputs": [],
   "source": []
  }
 ],
 "metadata": {
  "kernelspec": {
   "display_name": "Python 3",
   "language": "python",
   "name": "python3"
  },
  "language_info": {
   "codemirror_mode": {
    "name": "ipython",
    "version": 3
   },
   "file_extension": ".py",
   "mimetype": "text/x-python",
   "name": "python",
   "nbconvert_exporter": "python",
   "pygments_lexer": "ipython3",
   "version": "3.6.3"
  }
 },
 "nbformat": 4,
 "nbformat_minor": 2
}
