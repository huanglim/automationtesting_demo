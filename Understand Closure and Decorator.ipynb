{
 "cells": [
  {
   "cell_type": "markdown",
   "metadata": {},
   "source": [
    "# Understand Closure and Decorator"
   ]
  },
  {
   "cell_type": "markdown",
   "metadata": {},
   "source": [
    "## 函数作为参数和返回值  \n",
    "* 高阶函数(high-order function)  \n",
    "把函数作为参数或者是返回值的函数\n",
    "\n",
    "## 变量的作用域  \n",
    "* LEGB 规则\n",
    "    * local\n",
    "    * enclosed\n",
    "    * global\n",
    "    * built-in"
   ]
  },
  {
   "cell_type": "code",
   "execution_count": null,
   "metadata": {},
   "outputs": [],
   "source": [
    "# 通过一个例子来看变量的作用域的范围\n",
    "\n",
    "# 定义一个全局变量\n",
    "GLOBAL_VAR = 'G'\n",
    "\n",
    "# 定义一个函数, 此函数嵌套了一个子函数\n",
    "def func1():\n",
    "    \n",
    "    # 这个变量是外层函数拥有, 但是内层函数有调用, 它被称为Enclosed\n",
    "    enclosure_var = 'e'\n",
    "    \n",
    "    # 内层函数和外层函数有同名变量, 会优先local的变量\n",
    "    local_var = 'e'\n",
    "    def func2():\n",
    "        local_var ='l'\n",
    "        # print各变量值 int为 built-in \n",
    "        print(f'The vars are: {local_var}, {enclosure_var}, {GLOBAL_VAR}, {int}')\n",
    "    return func2\n",
    "\n",
    "func1()()"
   ]
  },
  {
   "cell_type": "code",
   "execution_count": null,
   "metadata": {},
   "outputs": [],
   "source": [
    "# 探讨一个例子, 它的结果是什么? \n",
    "def func3():\n",
    "    enclosure_var = 'e'\n",
    "    local_var = 'e'\n",
    "    def func4():\n",
    "        print(local_var)\n",
    "        local_var = 'l'\n",
    "    return func4"
   ]
  },
  {
   "cell_type": "code",
   "execution_count": null,
   "metadata": {},
   "outputs": [],
   "source": [
    "func3()()"
   ]
  },
  {
   "cell_type": "code",
   "execution_count": null,
   "metadata": {},
   "outputs": [],
   "source": [
    "# 另外一个例子\n",
    "def func5():\n",
    "    enclosure_list = []\n",
    "    def func6():\n",
    "        print(enclosure_list)\n",
    "        enclosure_list.extend([1,2,3])\n",
    "    return func6"
   ]
  },
  {
   "cell_type": "code",
   "execution_count": null,
   "metadata": {},
   "outputs": [],
   "source": [
    "func5()()"
   ]
  },
  {
   "cell_type": "markdown",
   "metadata": {},
   "source": [
    "## 闭包 Closure\n",
    "* 函数 + 自由变量\n",
    "* 延伸了作用域的\"函数\""
   ]
  },
  {
   "cell_type": "code",
   "execution_count": null,
   "metadata": {},
   "outputs": [],
   "source": [
    "# 一般函数的生命周期在执行完之后就会结束, 在函数内的变量会随着函数栈的返回而销毁. \n",
    "# 有没有办法让函数保留状态呢? \n",
    "# 闭包是一种实现的方式\n",
    "\n",
    "# 我们有一个需求, 需要有一个计数器函数, 每调用一次, 它的累计就+1 \n",
    "def counter_closure():\n",
    "    count = 0\n",
    "    def counter():\n",
    "        nonlocal count\n",
    "        other_arg = 0\n",
    "        count += 1\n",
    "        return count\n",
    "    return counter"
   ]
  },
  {
   "cell_type": "code",
   "execution_count": null,
   "metadata": {},
   "outputs": [],
   "source": [
    "counter = counter_closure()"
   ]
  },
  {
   "cell_type": "code",
   "execution_count": null,
   "metadata": {},
   "outputs": [],
   "source": [
    "counter()"
   ]
  },
  {
   "cell_type": "code",
   "execution_count": null,
   "metadata": {},
   "outputs": [],
   "source": [
    "counter.__closure__"
   ]
  },
  {
   "cell_type": "code",
   "execution_count": null,
   "metadata": {},
   "outputs": [],
   "source": [
    "counter.__code__.co_freevars"
   ]
  },
  {
   "cell_type": "code",
   "execution_count": null,
   "metadata": {},
   "outputs": [],
   "source": [
    "counter.__code__.co_varnames"
   ]
  },
  {
   "cell_type": "code",
   "execution_count": null,
   "metadata": {},
   "outputs": [],
   "source": [
    "counter_closure.__closure__"
   ]
  },
  {
   "cell_type": "code",
   "execution_count": null,
   "metadata": {
    "scrolled": true
   },
   "outputs": [],
   "source": [
    "import dis\n",
    "dis.dis('counter = counter_closure()')"
   ]
  },
  {
   "cell_type": "code",
   "execution_count": null,
   "metadata": {},
   "outputs": [],
   "source": [
    "dis.dis('counter()')"
   ]
  },
  {
   "cell_type": "code",
   "execution_count": null,
   "metadata": {},
   "outputs": [],
   "source": [
    "# 用类来实现counter \n",
    "class Counter():\n",
    "    def __init__(self):\n",
    "        self.count = 0 \n",
    "\n",
    "    def __call__(self):\n",
    "        self.count += 1\n",
    "        return self.count\n",
    "\n",
    "counter_c = Counter()\n",
    "counter_c()"
   ]
  },
  {
   "cell_type": "code",
   "execution_count": null,
   "metadata": {},
   "outputs": [],
   "source": [
    "counter_c()"
   ]
  },
  {
   "cell_type": "markdown",
   "metadata": {},
   "source": [
    "## 装饰器 Decorator\n",
    "* 不入侵原代码, 增加或修改功能"
   ]
  },
  {
   "cell_type": "code",
   "execution_count": null,
   "metadata": {},
   "outputs": [],
   "source": [
    "# 举例说明\n",
    "# 我们现在有一个需求, 想知道一个函数的运行时间是多少. 一个非常粗糙的想法是 \n",
    "from datetime import datetime\n",
    "import time\n",
    "#定义这个函数\n",
    "def simple_func():\n",
    "    print(f'running function simple_func')\n",
    "    time.sleep(0.1)\n",
    "\n",
    "# 写代码实现新的想法\n",
    "# 先记录开始时间\n",
    "start_time = datetime.now()\n",
    "#执行函数\n",
    "simple_func()\n",
    "# 记录结束时间\n",
    "end_time = datetime.now()\n",
    "\n",
    "#打印出花的时间\n",
    "print(f'The function ran for {end_time - start_time}')"
   ]
  },
  {
   "cell_type": "code",
   "execution_count": null,
   "metadata": {
    "collapsed": true
   },
   "outputs": [],
   "source": [
    "# 我们现在进化一下, 把这个功能编程一个函数\n",
    "\n",
    "def cal_time_origin():\n",
    "    \n",
    "    start_time = datetime.now()\n",
    "    #执行希望被包装的函数, 同时保留函数的返回值\n",
    "    r = simple_func()\n",
    "    # 记录结束时间\n",
    "    end_time = datetime.now()\n",
    "    \n",
    "    #打印出花的时间\n",
    "    print(f'The function ran for {end_time - start_time}')\n",
    "    # 返回被包装的函数的返回值\n",
    "    return r"
   ]
  },
  {
   "cell_type": "code",
   "execution_count": null,
   "metadata": {},
   "outputs": [],
   "source": [
    "cal_time_origin()"
   ]
  },
  {
   "cell_type": "code",
   "execution_count": null,
   "metadata": {
    "collapsed": true
   },
   "outputs": [],
   "source": [
    "# 比之前的好, 但是它有个问题, 因为 simple_func是hard code在里面. 不能用于更多的函数, 扩展性很差.\n",
    "# 我们思考一下, 如果把cal_time里面的 simple_func改成变量, 也就是说, 允许cal_time包装任何的函数, 那么这个功能的意义将大大的扩展\n",
    "# 我们考虑将需要包装的函数名当作cal_time的参数传入, 在cal_time里面执行被包装的函数\n",
    "# 这里我们使用一个两层的嵌套函数,  内层函数的调用参数用于接收被包装函数的参数, 外层函数的调用参数用于接收被包装的函数名"
   ]
  },
  {
   "cell_type": "code",
   "execution_count": null,
   "metadata": {
    "collapsed": true
   },
   "outputs": [],
   "source": [
    "# 内层函数就是刚刚介绍的闭包, 外层的参数func是闭包的自由变量, 内层函数里将调用它, 完成被包装函数的执行\n",
    "def cal_time(func):\n",
    "    \n",
    "    # 因为我们无法提前预知被包装函数的参数, 所以我们用不定参数来接收 (*args, **kw), 它的作用是原封不动的把调用参数传递给被包装的函数\n",
    "    def wrap(*args, **kw):\n",
    "        start_time = datetime.now()\n",
    "        r = func(*args, **kw)\n",
    "        end_time = datetime.now()\n",
    "        print(f'The function ran for {end_time - start_time}')\n",
    "        return r\n",
    "    return wrap"
   ]
  },
  {
   "cell_type": "code",
   "execution_count": null,
   "metadata": {},
   "outputs": [],
   "source": [
    "# 新写另一个函数, 试验是否可以cal_time计算时间函数的执行时间!\n",
    "import time\n",
    "def dummy_wait():\n",
    "    print(f'running function dummy_wait')\n",
    "    time.sleep(0.1)"
   ]
  },
  {
   "cell_type": "code",
   "execution_count": null,
   "metadata": {},
   "outputs": [],
   "source": [
    "# 调用刚刚写好的计算时间函数, 把需要包装的dummy_wait函数名传入\n",
    "enclosure_func = cal_time(dummy_wait)"
   ]
  },
  {
   "cell_type": "code",
   "execution_count": null,
   "metadata": {},
   "outputs": [],
   "source": [
    "# 得到了闭包的对象, 再调用它, 实现功能\n",
    "enclosure_func()"
   ]
  },
  {
   "cell_type": "code",
   "execution_count": null,
   "metadata": {},
   "outputs": [],
   "source": [
    "enclosure_func.__closure__"
   ]
  },
  {
   "cell_type": "code",
   "execution_count": null,
   "metadata": {
    "scrolled": true
   },
   "outputs": [],
   "source": [
    "enclosure_func.__code__.co_freevars"
   ]
  },
  {
   "cell_type": "code",
   "execution_count": null,
   "metadata": {},
   "outputs": [],
   "source": [
    "# 这个功能很好, 但是实现起来显得不那么优雅, 于是python 发明了一个语法糖, 它就是装饰器\n",
    "# 同样的效果可以这么写\n",
    "\n",
    "@cal_time\n",
    "def dummy_wait2():\n",
    "    print(f'running function dummy_wait2')\n",
    "    time.sleep(0.1)"
   ]
  },
  {
   "cell_type": "code",
   "execution_count": null,
   "metadata": {},
   "outputs": [],
   "source": [
    "#这个实现, 形式简洁并且保留了原来函数的执行\n",
    "dummy_wait2()"
   ]
  },
  {
   "cell_type": "code",
   "execution_count": null,
   "metadata": {},
   "outputs": [],
   "source": [
    "# 通过@cal_time 语法,实际上做的是把被装饰的函数当作参数传入到了装饰器当中\n",
    "# 以下语法\n",
    "@cal_time\n",
    "def func():\n",
    "    pass\n",
    "\n",
    "# 做的就是以下的事情:\n",
    "func = cal_time(func)\n",
    "\n",
    "# 在被装饰了之后, 函数func, 等于了cal_time(func), 它的执行结果就是闭包wrap\n",
    "# 之后每次执行func(*args, **kw) 就是执行 wrap(*args, **kw)\n",
    "# 在wrap里面, 我们实现了不改动原本func的代码, 在执行func函数的同时,新增了功能"
   ]
  },
  {
   "cell_type": "code",
   "execution_count": null,
   "metadata": {},
   "outputs": [],
   "source": [
    "# 目前装饰器的缺点\n",
    "# 不支持参数\n",
    "# 实际上函数被替换成了装饰器的闭包函数\n",
    "\n",
    "from functools import wraps\n",
    "\n",
    "def cal_time(func):\n",
    "    \n",
    "    #functools 里面的wraps装饰器可以用于装饰返回的闭包, 它会把原函数的相关属性复制给闭包\n",
    "    @wraps(func)\n",
    "    def wrap(*args, **kw):\n",
    "        start_time = datetime.now()\n",
    "        r = func(*args, **kw)\n",
    "        end_time = datetime.now()\n",
    "        print(f'The function ran for {end_time - start_time}')\n",
    "        return r\n",
    "    return wrap\n",
    "\n",
    "@cal_time\n",
    "def func():\n",
    "    pass\n",
    "\n",
    "func"
   ]
  },
  {
   "cell_type": "code",
   "execution_count": null,
   "metadata": {},
   "outputs": [],
   "source": [
    "# 带参数的装饰器\n",
    "# 在原有的装饰器基础上, 再嵌套一层函数, 用于接收装饰器的参数即可\n",
    "\n",
    "def cal_time_with_comment(comment):\n",
    "    def deco(func):\n",
    "        @wraps(func)\n",
    "        def wrap(*args, **kw):\n",
    "            print(f'This is the comment {comment}')\n",
    "            start_time = datetime.now()\n",
    "            r = func(*args, **kw)\n",
    "            end_time = datetime.now()\n",
    "            print(f'The function ran for {end_time - start_time}')\n",
    "            return r\n",
    "        return wrap\n",
    "    return deco\n",
    "\n",
    "# 在使用装饰器的时候, 直接调用最外层的函数并传入参数, 它的返回, 就是我们之前将解的无参数的装饰器函数. \n",
    "# 此后和之前讲过的内容除了增加了新的参数, 其他并无两样\n",
    "@cal_time_with_comment('Hello Decorator')\n",
    "def dummy_wait3():\n",
    "    print(f'running function dummy_wait3')\n",
    "    time.sleep(0.1)\n",
    "\n",
    "dummy_wait3()"
   ]
  },
  {
   "cell_type": "code",
   "execution_count": null,
   "metadata": {},
   "outputs": [],
   "source": [
    "# 装饰器的嵌套 \n",
    "\n",
    "def a(func):\n",
    "    pass\n",
    "\n",
    "def b(func):\n",
    "    pass\n",
    "\n",
    "@a\n",
    "@b\n",
    "def func():\n",
    "    pass\n",
    "\n",
    "# 它等同于什么? "
   ]
  }
 ],
 "metadata": {
  "kernelspec": {
   "display_name": "Python 3",
   "language": "python",
   "name": "python3"
  },
  "language_info": {
   "codemirror_mode": {
    "name": "ipython",
    "version": 3
   },
   "file_extension": ".py",
   "mimetype": "text/x-python",
   "name": "python",
   "nbconvert_exporter": "python",
   "pygments_lexer": "ipython3",
   "version": "3.6.3"
  }
 },
 "nbformat": 4,
 "nbformat_minor": 2
}
